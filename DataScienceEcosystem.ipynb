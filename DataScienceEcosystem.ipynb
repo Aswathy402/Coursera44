{
 "cells": [
  {
   "cell_type": "markdown",
   "id": "826513ad-bb3e-410f-a2af-cc1bafac37c1",
   "metadata": {},
   "source": [
    "# Data Science Tools and Ecosystem"
   ]
  },
  {
   "cell_type": "markdown",
   "id": "45ab00f9-ff2e-431d-9aaa-16b8083dd42d",
   "metadata": {},
   "source": [
    "In this Notebook Data science tools and Ecosystem are summarized"
   ]
  },
  {
   "cell_type": "markdown",
   "id": "9b043e12-a2a6-41e3-8c2e-ff68907253f4",
   "metadata": {},
   "source": [
    "Some of the Commonly used Libraries <br>\n",
    "1. Pandas\n",
    "2. Jupyter\n",
    "3. R"
   ]
  },
  {
   "cell_type": "markdown",
   "id": "e6d02ac1-89fe-49a7-a55d-b1c8bca640f2",
   "metadata": {},
   "source": [
    "Some of the Commonly used Libraries used by data scientist includes<br>\n",
    "1. Pandas\n",
    "2. Jupyter\n",
    "3. R"
   ]
  },
  {
   "cell_type": "markdown",
   "id": "ea096f6e-9968-46ad-b14d-89f0f6ac2c7f",
   "metadata": {},
   "source": [
    "| Data Science Tools |\n",
    "|--------------------|\n",
    "| Matlab |\n",
    "| GGPlot |\n",
    "| Excel |\n",
    "| Tableau |\n",
    "| D3 |"
   ]
  },
  {
   "cell_type": "markdown",
   "id": "4ac6448a-5cea-4a31-80d2-254c8ab080ff",
   "metadata": {},
   "source": [
    "### Below are the few examples of Arithmetic Expression"
   ]
  },
  {
   "cell_type": "markdown",
   "id": "966a1824-5d05-4913-96b0-039d38cee5ba",
   "metadata": {},
   "source": [
    "This a simple arithmetic expression to mutiply then add integers"
   ]
  },
  {
   "cell_type": "code",
   "execution_count": 1,
   "id": "e06222de-322e-46a3-b199-5720ec2ba479",
   "metadata": {},
   "outputs": [
    {
     "data": {
      "text/plain": [
       "17"
      ]
     },
     "execution_count": 1,
     "metadata": {},
     "output_type": "execute_result"
    }
   ],
   "source": [
    "(3*4)+5"
   ]
  },
  {
   "cell_type": "markdown",
   "id": "150986d5-41f8-46fa-ad9f-d7cb2d79cc57",
   "metadata": {},
   "source": [
    "This will convert 200 minutes to hours by diving by 60"
   ]
  },
  {
   "cell_type": "code",
   "execution_count": 2,
   "id": "93cd3a72-fb1b-4290-8ee7-6aa81cd940df",
   "metadata": {},
   "outputs": [
    {
     "data": {
      "text/plain": [
       "3.3333333333333335"
      ]
     },
     "execution_count": 2,
     "metadata": {},
     "output_type": "execute_result"
    }
   ],
   "source": [
    "200/60"
   ]
  },
  {
   "cell_type": "markdown",
   "id": "189d5bd2-3b04-4776-856c-bfe4d843132a",
   "metadata": {},
   "source": [
    "\n",
    "**OBJECTIVES** <br>\n",
    "List of popular languages of Data Science <br>\n",
    "* C\n",
    "* Python\n",
    "* R\n"
   ]
  },
  {
   "cell_type": "markdown",
   "id": "ea2a62b5-f381-4c3d-b802-67805a409d90",
   "metadata": {},
   "source": [
    "## AUTHOR <br>\n",
    "ASWATHY\n"
   ]
  }
 ],
 "metadata": {
  "kernelspec": {
   "display_name": "Python",
   "language": "python",
   "name": "conda-env-python-py"
  },
  "language_info": {
   "codemirror_mode": {
    "name": "ipython",
    "version": 3
   },
   "file_extension": ".py",
   "mimetype": "text/x-python",
   "name": "python",
   "nbconvert_exporter": "python",
   "pygments_lexer": "ipython3",
   "version": "3.7.12"
  }
 },
 "nbformat": 4,
 "nbformat_minor": 5
}
